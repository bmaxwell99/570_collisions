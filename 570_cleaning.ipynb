{
 "cells": [
  {
   "cell_type": "code",
   "execution_count": 361,
   "id": "438da914",
   "metadata": {},
   "outputs": [],
   "source": [
    "import pandas as pd\n",
    "\n",
    "collisions = pd.read_csv('SDOT_Collisions_-_All_Years.csv', low_memory=False)\n",
    "intersections = pd.read_csv('Intersections.csv')\n",
    "traffic_signals = pd.read_csv('Traffic_Signals.csv')\n",
    "poles = pd.read_csv('Seattle_City_Light_Poles.csv')"
   ]
  },
  {
   "cell_type": "code",
   "execution_count": 362,
   "id": "191ef34d",
   "metadata": {},
   "outputs": [],
   "source": [
    "intersections = intersections.drop(['GIS_XCOORD',\n",
    "                                    'OBJECTID',\n",
    "                                    'GIS_YCOORD',\n",
    "                                    'COMPKEY',\n",
    "                                    'SUBAREA',\n",
    "                                    'UNITID',\n",
    "                                    'SHAPE_LNG',\n",
    "                                    'SHAPE_LAT'\n",
    "                                   ], axis = 'columns')"
   ]
  },
  {
   "cell_type": "code",
   "execution_count": 364,
   "id": "e370fff5",
   "metadata": {},
   "outputs": [],
   "source": [
    "poles = poles.drop(['OBJECTID',\n",
    "                    'ASSET_ID',\n",
    "                    'SCL_SOURCE',\n",
    "                    'PULLDATE',\n",
    "                    'DDLAT',\n",
    "                    'DDLON',\n",
    "                    'FACILITY_NAME'\n",
    "                   ], axis = 'columns')"
   ]
  },
  {
   "cell_type": "code",
   "execution_count": 365,
   "id": "17f0e210",
   "metadata": {},
   "outputs": [],
   "source": [
    "traffic_signals = traffic_signals.drop(['OBJECTID',\n",
    "                                        'COMPKEY',\n",
    "                                        'COMPTYPE',\n",
    "                                        'UNITID',\n",
    "                                        'SEGKEY',\n",
    "                                        'INTKEY',\n",
    "                                        'INT_UNITID',\n",
    "                                        'MAINT_AGREE',\n",
    "                                        'PRIMARYDISTRICTCD',\n",
    "                                        'SECONDARYDISTRICTCD'\n",
    "                                       ], axis = 'columns')"
   ]
  },
  {
   "cell_type": "code",
   "execution_count": 366,
   "id": "222c2139",
   "metadata": {},
   "outputs": [],
   "source": [
    "#force to float\n",
    "collisions = collisions.astype({\"X\": float, \"Y\": float})\n",
    "intersections = intersections.astype({\"X\": float, \"Y\": float})\n",
    "poles = poles.astype({\"X\": float, \"Y\": float})\n",
    "\n",
    "# round columns X and Y to 5 decimal places\n",
    "collisions['X'] = collisions['X'].apply(lambda x: round(x, 5))\n",
    "collisions['Y'] = collisions['Y'].apply(lambda x: round(x, 5))\n",
    "\n",
    "# round columns X and Y to 5 decimal places\n",
    "intersections['X'] = intersections['X'].apply(lambda x: round(x, 5))\n",
    "intersections['Y'] = intersections['Y'].apply(lambda x: round(x, 5))\n",
    "\n",
    "# round columns X and Y to 5 decimal places\n",
    "poles['X'] = poles['X'].apply(lambda x: round(x, 5))\n",
    "poles['Y'] = poles['Y'].apply(lambda x: round(x, 5))\n",
    "\n",
    "#removes trailing white space\n",
    "traffic_signals['UNITDESC'] = traffic_signals['UNITDESC'].str.rstrip()"
   ]
  },
  {
   "cell_type": "code",
   "execution_count": 367,
   "id": "34da45c3",
   "metadata": {},
   "outputs": [],
   "source": [
    "#filter collisions to only those within an intersection\n",
    "collisions = collisions[collisions['ADDRTYPE'] == 'Intersection']\n",
    "\n",
    "#provides number of collisions at X Y coordinates\n",
    "collisions = collisions.groupby(['X', 'Y']).size().reset_index(name='collision_count')"
   ]
  },
  {
   "cell_type": "code",
   "execution_count": 368,
   "id": "f9ee1a6f",
   "metadata": {},
   "outputs": [],
   "source": [
    "#joining logic\n",
    "collisions_intersections = pd.merge(collisions, intersections, how='left', on=['X', 'Y'])\n",
    "collisions_intersections_signals = pd.merge(collisions_intersections, traffic_signals, how='left', on=['UNITDESC'])\n",
    "collisions_intersections_signals_poles = pd.merge(collisions_intersections_signals, poles, how='left', on=['X', 'Y'])"
   ]
  }
 ],
 "metadata": {
  "kernelspec": {
   "display_name": "Python 3 (ipykernel)",
   "language": "python",
   "name": "python3"
  },
  "language_info": {
   "codemirror_mode": {
    "name": "ipython",
    "version": 3
   },
   "file_extension": ".py",
   "mimetype": "text/x-python",
   "name": "python",
   "nbconvert_exporter": "python",
   "pygments_lexer": "ipython3",
   "version": "3.9.13"
  }
 },
 "nbformat": 4,
 "nbformat_minor": 5
}
